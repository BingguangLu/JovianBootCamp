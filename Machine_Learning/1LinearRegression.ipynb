{
 "cells": [
  {
   "cell_type": "markdown",
   "source": [
    "# Linear Regression with Scikit Learn\n",
    "## Problem Statement\n",
    "Use model to estimate the annual medical expenditure for new customers for insurance company.\n",
    "### Exercise\n",
    "Ideas beforehead:\n",
    "\n",
    "1. Dependent variable is annual medical expenditure, which is a numerical variable. Hence Linear Regression is valid.\n",
    "\n",
    "2. As first step (part of this course) we just consider linear relationship without any interaction or quarditic terms.\n",
    "\n",
    "3. Need to choose right set of independent variables from all possible choices.\n",
    "\n",
    "4. Some of the possible independent variables are categorical (nominal or ordinal), need to choose a way to convert them. (Through dummy variables or possibliy convert ordinal into numerical)\n",
    "\n",
    "5. Need to check data is clean before start of the training.\n",
    "## Load Data"
   ],
   "metadata": {
    "collapsed": false
   }
  },
  {
   "cell_type": "code",
   "execution_count": 3,
   "outputs": [],
   "source": [
    "# Import packages\n",
    "import pandas as pd"
   ],
   "metadata": {
    "collapsed": false
   }
  },
  {
   "cell_type": "code",
   "execution_count": 4,
   "outputs": [
    {
     "name": "stdout",
     "output_type": "stream",
     "text": [
      "<class 'pandas.core.frame.DataFrame'>\n",
      "RangeIndex: 1338 entries, 0 to 1337\n",
      "Data columns (total 7 columns):\n",
      " #   Column    Non-Null Count  Dtype  \n",
      "---  ------    --------------  -----  \n",
      " 0   age       1338 non-null   int64  \n",
      " 1   sex       1338 non-null   object \n",
      " 2   bmi       1338 non-null   float64\n",
      " 3   children  1338 non-null   int64  \n",
      " 4   smoker    1338 non-null   object \n",
      " 5   region    1338 non-null   object \n",
      " 6   charges   1338 non-null   float64\n",
      "dtypes: float64(2), int64(2), object(3)\n",
      "memory usage: 73.3+ KB\n"
     ]
    }
   ],
   "source": [
    "# Load data and basic information\n",
    "medical_df = pd.read_csv('Data/medical.csv')\n",
    "medical_df.info()"
   ],
   "metadata": {
    "collapsed": false
   }
  },
  {
   "cell_type": "code",
   "execution_count": 5,
   "outputs": [
    {
     "name": "stdout",
     "output_type": "stream",
     "text": [
      "<class 'pandas.core.frame.DataFrame'>\n",
      "RangeIndex: 1338 entries, 0 to 1337\n",
      "Data columns (total 7 columns):\n",
      " #   Column    Non-Null Count  Dtype  \n",
      "---  ------    --------------  -----  \n",
      " 0   age       1338 non-null   int64  \n",
      " 1   sex       1338 non-null   object \n",
      " 2   bmi       1338 non-null   float64\n",
      " 3   children  1338 non-null   int64  \n",
      " 4   smoker    1338 non-null   object \n",
      " 5   region    1338 non-null   object \n",
      " 6   charges   1338 non-null   float64\n",
      "dtypes: float64(2), int64(2), object(3)\n",
      "memory usage: 73.3+ KB\n"
     ]
    }
   ],
   "source": [
    "medical_df.info()"
   ],
   "metadata": {
    "collapsed": false
   }
  },
  {
   "cell_type": "markdown",
   "source": [
    "Note that this given dataset does not have missing values.\n",
    "- numerical variables: age, children, bmi, charges\n",
    "- categorical variables: sex, smoker, region"
   ],
   "metadata": {
    "collapsed": false
   }
  },
  {
   "cell_type": "markdown",
   "source": [
    "Then get basic statistics:"
   ],
   "metadata": {
    "collapsed": false
   }
  },
  {
   "cell_type": "code",
   "execution_count": 10,
   "outputs": [
    {
     "data": {
      "text/plain": "               age          bmi     children       charges\ncount  1338.000000  1338.000000  1338.000000   1338.000000\nmean     39.207025    30.663397     1.094918  13270.422265\nstd      14.049960     6.098187     1.205493  12110.011237\nmin      18.000000    15.960000     0.000000   1121.873900\n25%      27.000000    26.296250     0.000000   4740.287150\n50%      39.000000    30.400000     1.000000   9382.033000\n75%      51.000000    34.693750     2.000000  16639.912515\nmax      64.000000    53.130000     5.000000  63770.428010",
      "text/html": "<div>\n<style scoped>\n    .dataframe tbody tr th:only-of-type {\n        vertical-align: middle;\n    }\n\n    .dataframe tbody tr th {\n        vertical-align: top;\n    }\n\n    .dataframe thead th {\n        text-align: right;\n    }\n</style>\n<table border=\"1\" class=\"dataframe\">\n  <thead>\n    <tr style=\"text-align: right;\">\n      <th></th>\n      <th>age</th>\n      <th>bmi</th>\n      <th>children</th>\n      <th>charges</th>\n    </tr>\n  </thead>\n  <tbody>\n    <tr>\n      <th>count</th>\n      <td>1338.000000</td>\n      <td>1338.000000</td>\n      <td>1338.000000</td>\n      <td>1338.000000</td>\n    </tr>\n    <tr>\n      <th>mean</th>\n      <td>39.207025</td>\n      <td>30.663397</td>\n      <td>1.094918</td>\n      <td>13270.422265</td>\n    </tr>\n    <tr>\n      <th>std</th>\n      <td>14.049960</td>\n      <td>6.098187</td>\n      <td>1.205493</td>\n      <td>12110.011237</td>\n    </tr>\n    <tr>\n      <th>min</th>\n      <td>18.000000</td>\n      <td>15.960000</td>\n      <td>0.000000</td>\n      <td>1121.873900</td>\n    </tr>\n    <tr>\n      <th>25%</th>\n      <td>27.000000</td>\n      <td>26.296250</td>\n      <td>0.000000</td>\n      <td>4740.287150</td>\n    </tr>\n    <tr>\n      <th>50%</th>\n      <td>39.000000</td>\n      <td>30.400000</td>\n      <td>1.000000</td>\n      <td>9382.033000</td>\n    </tr>\n    <tr>\n      <th>75%</th>\n      <td>51.000000</td>\n      <td>34.693750</td>\n      <td>2.000000</td>\n      <td>16639.912515</td>\n    </tr>\n    <tr>\n      <th>max</th>\n      <td>64.000000</td>\n      <td>53.130000</td>\n      <td>5.000000</td>\n      <td>63770.428010</td>\n    </tr>\n  </tbody>\n</table>\n</div>"
     },
     "execution_count": 10,
     "metadata": {},
     "output_type": "execute_result"
    }
   ],
   "source": [
    "medical_df.describe()"
   ],
   "metadata": {
    "collapsed": false
   }
  },
  {
   "cell_type": "markdown",
   "source": [
    "- For age: the max and min value are reasonable, also note that max and min are within 1 std from the first/third qutaile of the data, hence no need to change anything at this stage.\n",
    "- For bmi: max value is beyond 2 std form 75%, which can be consider as potential outlier. However, it seems still reasonable.\n",
    "- For children: similar to bmi.\n",
    "- For charges: max value is much higher than the median value. Hence need to take attention for this when cleanning."
   ],
   "metadata": {
    "collapsed": false
   }
  },
  {
   "cell_type": "markdown",
   "source": [
    "## Basic Analysis and Visualization"
   ],
   "metadata": {
    "collapsed": false
   }
  },
  {
   "cell_type": "code",
   "execution_count": 6,
   "outputs": [],
   "source": [
    "!pip install plotly matplotlib seaborn --quiet"
   ],
   "metadata": {
    "collapsed": false
   }
  },
  {
   "cell_type": "code",
   "execution_count": 7,
   "outputs": [],
   "source": [
    "import plotly.express as px\n",
    "import matplotlib\n",
    "import matplotlib.pyplot as plt\n",
    "import seaborn as sns\n",
    "%matplotlib inline"
   ],
   "metadata": {
    "collapsed": false
   }
  },
  {
   "cell_type": "markdown",
   "source": [
    "Set style and font size"
   ],
   "metadata": {
    "collapsed": false
   }
  },
  {
   "cell_type": "code",
   "execution_count": 13,
   "outputs": [],
   "source": [
    "sns.set_style('darkgrid')\n",
    "matplotlib.rcParams['font.size'] = 14\n",
    "matplotlib.rcParams['figure.figsize'] = (10, 6)\n",
    "matplotlib.rcParams['figure.facecolor'] = '#00000000'"
   ],
   "metadata": {
    "collapsed": false
   }
  },
  {
   "cell_type": "markdown",
   "source": [
    "### Age"
   ],
   "metadata": {
    "collapsed": false
   }
  },
  {
   "cell_type": "code",
   "execution_count": null,
   "outputs": [],
   "source": [
    "# medical_df.age.describe()\n",
    "fig = px.histogram(medical_df, x='age', marginal='box', nbins=47,\n",
    "                   title='Distribution of Age')\n",
    "fig.update_layout(bargap=0.1)\n",
    "fig.show()"
   ],
   "metadata": {
    "collapsed": false,
    "pycharm": {
     "is_executing": true
    }
   }
  },
  {
   "cell_type": "markdown",
   "source": [
    "Note that 18 and 19 have far more count than other ages."
   ],
   "metadata": {
    "collapsed": false
   }
  },
  {
   "cell_type": "markdown",
   "source": [
    "### BMI"
   ],
   "metadata": {
    "collapsed": false
   }
  },
  {
   "cell_type": "code",
   "execution_count": null,
   "outputs": [],
   "source": [
    "fig = px.histogram(medical_df, x='bmi', marginal='box', color_discrete_sequence=['red'],\n",
    "                   title='Distribution of BMI')\n",
    "fig.update_layout(bargap=0.1)\n",
    "fig.show()"
   ],
   "metadata": {
    "collapsed": false,
    "pycharm": {
     "is_executing": true
    }
   }
  },
  {
   "cell_type": "markdown",
   "source": [
    "Seems it is bell shape and follow normal distribution with average around 30.\n",
    "BMI is a value based on body fitness, which most people are likely to have a value within certain range while age is a value that can be expected to distributed uniformally across the people."
   ],
   "metadata": {
    "collapsed": false
   }
  },
  {
   "cell_type": "markdown",
   "source": [
    "### Charges\n",
    "This is dependent variables. Hence, try to filter them with single independent variables:"
   ],
   "metadata": {
    "collapsed": false
   }
  },
  {
   "cell_type": "code",
   "execution_count": null,
   "outputs": [],
   "source": [
    "fig = px.histogram(medical_df, x='charges', marginal='box', color='smoker',\n",
    "                   color_discrete_sequence=['green', 'grey'],\n",
    "                   title='Annual Medical Charges')\n",
    "fig.update_layout(bargap=0.1)\n",
    "fig.show()"
   ],
   "metadata": {
    "collapsed": false,
    "pycharm": {
     "is_executing": true
    }
   }
  },
  {
   "cell_type": "code",
   "execution_count": null,
   "outputs": [],
   "source": [
    "fig = px.histogram(medical_df, x='charges', marginal='box', color='children',\n",
    "                   title='Annual Medical Charges')\n",
    "fig.update_layout(bargap=0.1)\n",
    "fig.show()"
   ],
   "metadata": {
    "collapsed": false,
    "pycharm": {
     "is_executing": true
    }
   }
  },
  {
   "cell_type": "code",
   "execution_count": null,
   "outputs": [],
   "source": [
    "fig = px.histogram(medical_df, x='charges', marginal='box', color='sex',\n",
    "                   title='Annual Medical Charges')\n",
    "fig.update_layout(bargap=0.1)\n",
    "fig.show()"
   ],
   "metadata": {
    "collapsed": false,
    "pycharm": {
     "is_executing": true
    }
   }
  },
  {
   "cell_type": "code",
   "execution_count": null,
   "outputs": [],
   "source": [
    "fig = px.histogram(medical_df, x='charges', marginal='box', color='region',\n",
    "                   title='Annual Medical Charges')\n",
    "fig.update_layout(bargap=0.1)\n",
    "fig.show()"
   ],
   "metadata": {
    "collapsed": false,
    "pycharm": {
     "is_executing": true
    }
   }
  },
  {
   "cell_type": "markdown",
   "source": [
    "### Smoker"
   ],
   "metadata": {
    "collapsed": false
   }
  },
  {
   "cell_type": "code",
   "execution_count": null,
   "outputs": [],
   "source": [
    "fig = px.histogram(medical_df, x='smoker', color='sex', title='Smoker vs sex')\n",
    "fig.update_layout(bargap=0.1)\n",
    "fig.show()"
   ],
   "metadata": {
    "collapsed": false,
    "pycharm": {
     "is_executing": true
    }
   }
  },
  {
   "cell_type": "markdown",
   "source": [
    "Note that the smokers are fairly average acorss sex."
   ],
   "metadata": {
    "collapsed": false
   }
  },
  {
   "cell_type": "code",
   "execution_count": null,
   "outputs": [],
   "source": [
    "fig = px.histogram(medical_df, x='smoker', color='region', title='Smoker vs region')\n",
    "fig.update_layout(bargap=0.1)\n",
    "fig.show()"
   ],
   "metadata": {
    "collapsed": false,
    "pycharm": {
     "is_executing": true
    }
   }
  },
  {
   "cell_type": "code",
   "execution_count": null,
   "outputs": [],
   "source": [
    "fig = px.histogram(medical_df, x='smoker', color='children', title='Smoker vs children')\n",
    "fig.update_layout(bargap=0.1)\n",
    "fig.show()"
   ],
   "metadata": {
    "collapsed": false,
    "pycharm": {
     "is_executing": true
    }
   }
  },
  {
   "cell_type": "markdown",
   "source": [
    "Can conclude that distribution of sex, region and number of children are similar across smokers and non-smokers."
   ],
   "metadata": {
    "collapsed": false
   }
  },
  {
   "cell_type": "markdown",
   "source": [
    "### Age and Charges"
   ],
   "metadata": {
    "collapsed": false
   }
  },
  {
   "cell_type": "code",
   "execution_count": null,
   "outputs": [],
   "source": [
    "fig = px.scatter(medical_df, x='age', y='charges', color='smoker', opacity=0.8,\n",
    "                 hover_data=['sex'], title='Age vs. Charges')\n",
    "fig.update_traces(marker_size=5)\n",
    "fig.show()"
   ],
   "metadata": {
    "collapsed": false,
    "pycharm": {
     "is_executing": true
    }
   }
  },
  {
   "cell_type": "markdown",
   "source": [
    "We can make the following observations from the above chart:\n",
    "\n",
    "- Charges seems increase as age increase.\n",
    "- We can see three \"clusters\" of points, each of which seems to form a line with an increasing slope:\n",
    "     1. The first and the largest cluster consists primary of presumably \"healthy non-smokers\" who have relatively low medical charges compared to others\n",
    "     2. The second cluster contains a mix of smokers and non-smokers. It's possible that these are actually two distinct but overlapping clusters: \"non-smokers with medical issues\" and \"smokers without major medical issues\".\n",
    "     3. The final cluster consists exclusively of smokers, presumably smokers with major medical issues that are possibly related to or worsened by smoking.\n",
    "- Smokers seems to have more 'unstable' charges if we just consider smoker and age."
   ],
   "metadata": {
    "collapsed": false
   }
  },
  {
   "cell_type": "markdown",
   "source": [
    "### BMI and Charges"
   ],
   "metadata": {
    "collapsed": false
   }
  },
  {
   "cell_type": "code",
   "execution_count": null,
   "outputs": [],
   "source": [
    "fig = px.scatter(medical_df, x='bmi', y='charges', color='smoker', opacity=0.8,\n",
    "                 hover_data=['sex'], title='BMI vs. Charges')\n",
    "fig.update_traces(marker_size=5)\n",
    "fig.show()"
   ],
   "metadata": {
    "collapsed": false,
    "pycharm": {
     "is_executing": true
    }
   }
  },
  {
   "cell_type": "markdown",
   "source": [
    "Same BMI, smokers appear to have more charges than non-smokers."
   ],
   "metadata": {
    "collapsed": false
   }
  },
  {
   "cell_type": "markdown",
   "source": [
    "### Children and Charges"
   ],
   "metadata": {
    "collapsed": false
   }
  },
  {
   "cell_type": "code",
   "execution_count": null,
   "outputs": [],
   "source": [
    "fig = px.violin(medical_df, x='children', y='charges',\n",
    "                title='Children and Charges')\n",
    "fig.update_layout(bargap=0.1)\n",
    "fig.show()"
   ],
   "metadata": {
    "collapsed": false,
    "pycharm": {
     "is_executing": true
    }
   }
  },
  {
   "cell_type": "markdown",
   "source": [
    "The number of children seems does not affect the charges very much"
   ],
   "metadata": {
    "collapsed": false
   }
  },
  {
   "cell_type": "markdown",
   "source": [
    "### Sex and Charge"
   ],
   "metadata": {
    "collapsed": false
   }
  },
  {
   "cell_type": "code",
   "execution_count": null,
   "outputs": [],
   "source": [
    "fig = px.violin(medical_df, x='sex', y='charges',\n",
    "                title='Sex and Charges')\n",
    "fig.update_layout(bargap=0.1)\n",
    "fig.show()"
   ],
   "metadata": {
    "collapsed": false,
    "pycharm": {
     "is_executing": true
    }
   }
  },
  {
   "cell_type": "markdown",
   "source": [
    "### Region and Charge"
   ],
   "metadata": {
    "collapsed": false
   }
  },
  {
   "cell_type": "code",
   "execution_count": null,
   "outputs": [],
   "source": [
    "fig = px.violin(medical_df, x='region', y='charges',\n",
    "                title='Region and Charges')\n",
    "fig.update_layout(bargap=0.1)\n",
    "fig.show()"
   ],
   "metadata": {
    "collapsed": false,
    "pycharm": {
     "is_executing": true
    }
   }
  },
  {
   "cell_type": "markdown",
   "source": [
    "Similar, there seems have less relationship between charges and sex/region."
   ],
   "metadata": {
    "collapsed": false
   }
  },
  {
   "cell_type": "markdown",
   "source": [
    "### Smoker and Charge"
   ],
   "metadata": {
    "collapsed": false
   }
  },
  {
   "cell_type": "code",
   "execution_count": null,
   "outputs": [],
   "source": [
    "fig = px.violin(medical_df, x='smoker', y='charges',\n",
    "                title='Smoker and Charges')\n",
    "fig.update_layout(bargap=0.1)\n",
    "fig.show()"
   ],
   "metadata": {
    "collapsed": false,
    "pycharm": {
     "is_executing": true
    }
   }
  },
  {
   "cell_type": "markdown",
   "source": [
    "It is clear that non-smokers have lower average charges than smokers."
   ],
   "metadata": {
    "collapsed": false
   }
  },
  {
   "cell_type": "markdown",
   "source": [
    "### Correlation"
   ],
   "metadata": {
    "collapsed": false
   }
  },
  {
   "cell_type": "code",
   "execution_count": 70,
   "outputs": [
    {
     "data": {
      "text/plain": "               age       bmi  children   charges\nage       1.000000  0.109272  0.042469  0.299008\nbmi       0.109272  1.000000  0.012759  0.198341\nchildren  0.042469  0.012759  1.000000  0.067998\ncharges   0.299008  0.198341  0.067998  1.000000",
      "text/html": "<div>\n<style scoped>\n    .dataframe tbody tr th:only-of-type {\n        vertical-align: middle;\n    }\n\n    .dataframe tbody tr th {\n        vertical-align: top;\n    }\n\n    .dataframe thead th {\n        text-align: right;\n    }\n</style>\n<table border=\"1\" class=\"dataframe\">\n  <thead>\n    <tr style=\"text-align: right;\">\n      <th></th>\n      <th>age</th>\n      <th>bmi</th>\n      <th>children</th>\n      <th>charges</th>\n    </tr>\n  </thead>\n  <tbody>\n    <tr>\n      <th>age</th>\n      <td>1.000000</td>\n      <td>0.109272</td>\n      <td>0.042469</td>\n      <td>0.299008</td>\n    </tr>\n    <tr>\n      <th>bmi</th>\n      <td>0.109272</td>\n      <td>1.000000</td>\n      <td>0.012759</td>\n      <td>0.198341</td>\n    </tr>\n    <tr>\n      <th>children</th>\n      <td>0.042469</td>\n      <td>0.012759</td>\n      <td>1.000000</td>\n      <td>0.067998</td>\n    </tr>\n    <tr>\n      <th>charges</th>\n      <td>0.299008</td>\n      <td>0.198341</td>\n      <td>0.067998</td>\n      <td>1.000000</td>\n    </tr>\n  </tbody>\n</table>\n</div>"
     },
     "execution_count": 70,
     "metadata": {},
     "output_type": "execute_result"
    }
   ],
   "source": [
    "medical_df.corr()"
   ],
   "metadata": {
    "collapsed": false
   }
  },
  {
   "cell_type": "code",
   "execution_count": 69,
   "outputs": [
    {
     "data": {
      "text/plain": "0.7872514304984772"
     },
     "execution_count": 69,
     "metadata": {},
     "output_type": "execute_result"
    }
   ],
   "source": [
    "smoker_values = {'no': 0, 'yes': 1}\n",
    "smoker_numeric = medical_df.smoker.map(smoker_values)\n",
    "medical_df.charges.corr(smoker_numeric)"
   ],
   "metadata": {
    "collapsed": false
   }
  },
  {
   "cell_type": "markdown",
   "source": [
    "To visualize correlation matrix by heatmap:"
   ],
   "metadata": {
    "collapsed": false
   }
  },
  {
   "cell_type": "code",
   "execution_count": null,
   "outputs": [],
   "source": [
    "sns.heatmap(medical_df.corr(), cmap='Reds', annot=True)\n",
    "plt.title('Correlation Matrix');"
   ],
   "metadata": {
    "collapsed": false,
    "pycharm": {
     "is_executing": true
    }
   }
  },
  {
   "cell_type": "markdown",
   "source": [
    "Note: Correlation does not necessarily implies Causation!!!!!!"
   ],
   "metadata": {
    "collapsed": false
   }
  },
  {
   "cell_type": "markdown",
   "source": [
    "## Linear Regression (with single feature)\n",
    "Want to consider age as single feature among non-smokers."
   ],
   "metadata": {
    "collapsed": false
   }
  },
  {
   "cell_type": "code",
   "execution_count": 8,
   "outputs": [],
   "source": [
    "# first extract data to just contain non-smokers.\n",
    "non_smoker_df = medical_df[medical_df.smoker == 'no']"
   ],
   "metadata": {
    "collapsed": false
   }
  },
  {
   "cell_type": "code",
   "execution_count": null,
   "outputs": [],
   "source": [
    "# visualize the relationship\n",
    "plt.title('Age v.s. Charges')\n",
    "sns.scatterplot(data=non_smoker_df, x='age', y='charges', alpha=0.7, s=15)"
   ],
   "metadata": {
    "collapsed": false,
    "pycharm": {
     "is_executing": true
    }
   }
  },
  {
   "cell_type": "markdown",
   "source": [
    "Since in this part, just consider simple linear regression model. Have:\n",
    "$$\n",
    "y = ax + b\n",
    "$$\n",
    "and we want to determine a and b."
   ],
   "metadata": {
    "collapsed": false
   }
  },
  {
   "cell_type": "markdown",
   "source": [
    "### Model\n",
    "Guess values for a and b:\n",
    "- $a = 50$\n",
    "- $b = 100$\n",
    "Then:"
   ],
   "metadata": {
    "collapsed": false
   }
  },
  {
   "cell_type": "code",
   "execution_count": null,
   "outputs": [],
   "source": [
    "def estimate_charges(age, a, b):\n",
    "    return a * age + b\n",
    "\n",
    "# guess values\n",
    "a = 50\n",
    "b = 100\n",
    "\n",
    "# set up some values\n",
    "ages = non_smoker_df.age\n",
    "estimated_charges = estimate_charges(ages, a, b)\n",
    "target = non_smoker_df.charges\n",
    "\n",
    "# also plot the actual values as well as the estimated values\n",
    "plt.plot(ages, estimated_charges, 'r', alpha=0.9)\n",
    "plt.scatter(ages, target, s=8,alpha=0.8)\n",
    "plt.xlabel('Age')\n",
    "plt.ylabel('Charges')\n",
    "plt.legend(['Estimate', 'Actual'])"
   ],
   "metadata": {
    "collapsed": false,
    "pycharm": {
     "is_executing": true
    }
   }
  },
  {
   "cell_type": "markdown",
   "source": [
    "This line fit not well, then try another"
   ],
   "metadata": {
    "collapsed": false
   }
  },
  {
   "cell_type": "code",
   "execution_count": 61,
   "outputs": [],
   "source": [
    "def try_parameters(a, b):\n",
    "    ages = non_smoker_df.age\n",
    "    target = non_smoker_df.charges\n",
    "\n",
    "    estimated_charges = estimate_charges(ages, a, b)\n",
    "\n",
    "    plt.plot(ages, estimated_charges, 'r', alpha=0.9);\n",
    "    plt.scatter(ages, target, s=8,alpha=0.8);\n",
    "    plt.xlabel('Age');\n",
    "    plt.ylabel('Charges')\n",
    "    plt.legend(['Estimate', 'Actual']);"
   ],
   "metadata": {
    "collapsed": false
   }
  },
  {
   "cell_type": "code",
   "execution_count": null,
   "outputs": [],
   "source": [
    "try_parameters(60, 200)"
   ],
   "metadata": {
    "collapsed": false,
    "pycharm": {
     "is_executing": true
    }
   }
  },
  {
   "cell_type": "code",
   "execution_count": null,
   "outputs": [],
   "source": [
    "try_parameters(400, 5000)"
   ],
   "metadata": {
    "collapsed": false,
    "pycharm": {
     "is_executing": true
    }
   }
  },
  {
   "cell_type": "code",
   "execution_count": null,
   "outputs": [],
   "source": [
    "try_parameters(300, 2500)"
   ],
   "metadata": {
    "collapsed": false,
    "pycharm": {
     "is_executing": true
    }
   }
  },
  {
   "cell_type": "code",
   "execution_count": null,
   "outputs": [],
   "source": [
    "try_parameters(300, -2500)"
   ],
   "metadata": {
    "collapsed": false,
    "pycharm": {
     "is_executing": true
    }
   }
  },
  {
   "cell_type": "markdown",
   "source": [
    "### Loss/ Cost Function\n",
    "Need this to measure how well the model fit the data.\n",
    "$$\n",
    "RMSE = \\sqrt{\\frac{\\sum^N_{i = 1}(Predicted_i - Actual_i)^2}{N}}\n",
    "$$"
   ],
   "metadata": {
    "collapsed": false
   }
  },
  {
   "cell_type": "code",
   "execution_count": 59,
   "outputs": [],
   "source": [
    "import  numpy as np"
   ],
   "metadata": {
    "collapsed": false
   }
  },
  {
   "cell_type": "code",
   "execution_count": 64,
   "outputs": [],
   "source": [
    "def rmse(actual, predict):\n",
    "    return np.sqrt(np.mean(np.square(actual - predict)))"
   ],
   "metadata": {
    "collapsed": false
   }
  },
  {
   "cell_type": "code",
   "execution_count": 65,
   "outputs": [
    {
     "data": {
      "text/plain": "8461.949562575488"
     },
     "execution_count": 65,
     "metadata": {},
     "output_type": "execute_result"
    }
   ],
   "source": [
    "a = 50\n",
    "b = 100\n",
    "\n",
    "actual = non_smoker_df['charges']\n",
    "predicted = estimate_charges(non_smoker_df.age, a, b)\n",
    "\n",
    "rmse(actual, predicted)"
   ],
   "metadata": {
    "collapsed": false
   }
  },
  {
   "cell_type": "markdown",
   "source": [
    "update the try_parameters() function:"
   ],
   "metadata": {
    "collapsed": false
   }
  },
  {
   "cell_type": "code",
   "execution_count": 66,
   "outputs": [],
   "source": [
    "def try_parameters(a, b):\n",
    "    ages = non_smoker_df.age\n",
    "    actual = non_smoker_df.charges\n",
    "    predicted = estimate_charges(non_smoker_df.age, a, b)\n",
    "\n",
    "    estimated_charges = estimate_charges(ages, a, b)\n",
    "\n",
    "    plt.plot(ages, estimated_charges, 'r', alpha=0.9)\n",
    "    plt.scatter(ages, actual, s=8, alpha=0.8)\n",
    "    plt.xlabel('Age')\n",
    "    plt.ylabel('Charges')\n",
    "    plt.legend(['Estimate', 'Actual'])\n",
    "\n",
    "    loss = rmse(actual, predicted)\n",
    "    print(\"RMSE Loss: \", loss)"
   ],
   "metadata": {
    "collapsed": false
   }
  },
  {
   "cell_type": "code",
   "execution_count": null,
   "outputs": [],
   "source": [
    "try_parameters(50, 100)"
   ],
   "metadata": {
    "collapsed": false,
    "pycharm": {
     "is_executing": true
    }
   }
  },
  {
   "cell_type": "code",
   "execution_count": null,
   "outputs": [],
   "source": [
    "try_parameters(400, 5000)"
   ],
   "metadata": {
    "collapsed": false,
    "pycharm": {
     "is_executing": true
    }
   }
  },
  {
   "cell_type": "code",
   "execution_count": null,
   "outputs": [],
   "source": [
    "try_parameters(300, -2500)"
   ],
   "metadata": {
    "collapsed": false,
    "pycharm": {
     "is_executing": true
    }
   }
  },
  {
   "cell_type": "markdown",
   "source": [
    "4767 is the lowest value of loss I got.\n",
    "To minimize the loss is one of the way to find the best model. (LSE)"
   ],
   "metadata": {
    "collapsed": false
   }
  },
  {
   "cell_type": "markdown",
   "source": [
    "### Optimizer\n",
    "Consider:\n",
    "- Ordinary Least Squares\n",
    "- Stochastic gradient descent"
   ],
   "metadata": {
    "collapsed": false
   }
  },
  {
   "cell_type": "markdown",
   "source": [
    "### Linear Regression using Scikit-learn"
   ],
   "metadata": {
    "collapsed": false
   }
  },
  {
   "cell_type": "code",
   "execution_count": 81,
   "outputs": [
    {
     "name": "stdout",
     "output_type": "stream",
     "text": [
      "The model has RMSE: 4662.505766636392\n",
      "The slope is: [267.24891283]\n",
      "The intercept is: -2091.420556565079\n"
     ]
    }
   ],
   "source": [
    "from  sklearn.linear_model import LinearRegression\n",
    "\n",
    "model = LinearRegression()\n",
    "\n",
    "# Set the training data\n",
    "training_x = non_smoker_df[['age']]\n",
    "y = non_smoker_df.charges\n",
    "\n",
    "# fit the model\n",
    "model.fit(training_x, y)\n",
    "\n",
    "# get the y_hat\n",
    "y_hat = model.predict(training_x)\n",
    "\n",
    "# calculate the RMSE\n",
    "print(f'The model has RMSE: {rmse(y, y_hat)}')\n",
    "\n",
    "# print slope and intercept\n",
    "print(f'The slope is: {model.coef_}')\n",
    "print(f'The intercept is: {model.intercept_}')"
   ],
   "metadata": {
    "collapsed": false
   }
  },
  {
   "cell_type": "markdown",
   "source": [
    "visualize the model:"
   ],
   "metadata": {
    "collapsed": false
   }
  },
  {
   "cell_type": "code",
   "execution_count": 82,
   "outputs": [
    {
     "name": "stdout",
     "output_type": "stream",
     "text": [
      "RMSE Loss:  4662.505766636392\n"
     ]
    },
    {
     "data": {
      "text/plain": "<Figure size 640x480 with 1 Axes>",
      "image/png": "[encoded data removed]"
     },
     "metadata": {},
     "output_type": "display_data"
    }
   ],
   "source": [
    "try_parameters(model.coef_, model.intercept_)"
   ],
   "metadata": {
    "collapsed": false
   }
  },
  {
   "cell_type": "code",
   "execution_count": 83,
   "outputs": [
    {
     "name": "stdout",
     "output_type": "stream",
     "text": [
      "The model has RMSE: 4962.358178444988\n",
      "The slope is: [314.3767612]\n",
      "The intercept is: [-5511.51290204]\n"
     ]
    }
   ],
   "source": [
    "from  sklearn.linear_model import SGDRegressor\n",
    "\n",
    "model_GD = SGDRegressor()\n",
    "\n",
    "# fit the model\n",
    "model_GD.fit(training_x, y)\n",
    "\n",
    "# get the y_hat\n",
    "y_hat_GD = model_GD.predict(training_x)\n",
    "\n",
    "# calculate the RMSE\n",
    "print(f'The model has RMSE: {rmse(y, y_hat_GD)}')\n",
    "\n",
    "# print slope and intercept\n",
    "print(f'The slope is: {model_GD.coef_}')\n",
    "print(f'The intercept is: {model_GD.intercept_}')"
   ],
   "metadata": {
    "collapsed": false
   }
  },
  {
   "cell_type": "code",
   "execution_count": 84,
   "outputs": [
    {
     "name": "stdout",
     "output_type": "stream",
     "text": [
      "RMSE Loss:  4962.358178444988\n"
     ]
    },
    {
     "data": {
      "text/plain": "<Figure size 640x480 with 1 Axes>",
      "image/png": "[encoded data removed]"
     },
     "metadata": {},
     "output_type": "display_data"
    }
   ],
   "source": [
    "try_parameters(model_GD.coef_, model_GD.intercept_)"
   ],
   "metadata": {
    "collapsed": false
   }
  },
  {
   "cell_type": "markdown",
   "source": [
    "The model using stochastic gradient descent tend to fit main trend closer and less infulenced by the outliers. However, in this case, we cannot consider upper part of the dataset on plot is outlier."
   ],
   "metadata": {
    "collapsed": false
   }
  },
  {
   "cell_type": "code",
   "execution_count": 85,
   "outputs": [],
   "source": [
    "# get data for smoker\n",
    "smoker_df = medical_df[medical_df.smoker == 'yes']"
   ],
   "metadata": {
    "collapsed": false
   }
  },
  {
   "cell_type": "code",
   "execution_count": 112,
   "outputs": [
    {
     "name": "stdout",
     "output_type": "stream",
     "text": [
      "The model has RMSE: 10711.00334810241\n",
      "The slope is: [305.23760211]\n",
      "The intercept is: 20294.128126915966\n"
     ]
    }
   ],
   "source": [
    "model_smoker = LinearRegression()\n",
    "\n",
    "# Set the training data\n",
    "training_x = smoker_df[['age']]\n",
    "y = smoker_df.charges\n",
    "\n",
    "# fit the model\n",
    "model_smoker.fit(training_x, y)\n",
    "\n",
    "# get the y_hat\n",
    "y_hat = model_smoker.predict(training_x)\n",
    "\n",
    "# calculate the RMSE\n",
    "print(f'The model has RMSE: {rmse(y, y_hat)}')\n",
    "\n",
    "# print slope and intercept\n",
    "print(f'The slope is: {model_smoker.coef_}')\n",
    "print(f'The intercept is: {model_smoker.intercept_}')"
   ],
   "metadata": {
    "collapsed": false
   }
  },
  {
   "cell_type": "code",
   "execution_count": 113,
   "outputs": [
    {
     "name": "stdout",
     "output_type": "stream",
     "text": [
      "RMSE Loss:  10711.00334810241\n"
     ]
    },
    {
     "data": {
      "text/plain": "<Figure size 640x480 with 1 Axes>",
      "image/png": "[encoded data removed]"
     },
     "metadata": {},
     "output_type": "display_data"
    }
   ],
   "source": [
    "# update the try_parameyers() function\n",
    "def try_parameters(a, b):\n",
    "    ages = smoker_df.age\n",
    "    actual = smoker_df.charges\n",
    "    predicted = estimate_charges(smoker_df.age, a, b)\n",
    "\n",
    "    estimated_charges = estimate_charges(ages, a, b)\n",
    "\n",
    "    plt.plot(ages, estimated_charges, 'r', alpha=0.9)\n",
    "    plt.scatter(ages, actual, s=8, alpha=0.8)\n",
    "    plt.xlabel('Age')\n",
    "    plt.ylabel('Charges')\n",
    "    plt.legend(['Estimate', 'Actual'])\n",
    "\n",
    "    loss = rmse(actual, predicted)\n",
    "    print(\"RMSE Loss: \", loss)\n",
    "\n",
    "try_parameters(model_smoker.coef_, model_smoker.intercept_)"
   ],
   "metadata": {
    "collapsed": false
   }
  },
  {
   "cell_type": "code",
   "execution_count": 121,
   "outputs": [
    {
     "name": "stdout",
     "output_type": "stream",
     "text": [
      "The model has RMSE: 14735306.38671874\n",
      "The slope is: [946743.75736703]\n",
      "The intercept is: [-29789269.03601472]\n"
     ]
    }
   ],
   "source": [
    "model_smoker_GD = SGDRegressor()\n",
    "\n",
    "# fit the model\n",
    "model_smoker_GD.fit(training_x, y)\n",
    "\n",
    "# get the y_hat\n",
    "y_hat_smoker_GD = model_smoker_GD.predict(training_x)\n",
    "\n",
    "# calculate the RMSE\n",
    "print(f'The model has RMSE: {rmse(y, y_hat_smoker_GD)}')\n",
    "\n",
    "# print slope and intercept\n",
    "print(f'The slope is: {model_smoker_GD.coef_}')\n",
    "print(f'The intercept is: {model_smoker_GD.intercept_}')"
   ],
   "metadata": {
    "collapsed": false
   }
  },
  {
   "cell_type": "code",
   "execution_count": 120,
   "outputs": [
    {
     "name": "stdout",
     "output_type": "stream",
     "text": [
      "RMSE Loss:  17061680060.917826\n"
     ]
    },
    {
     "data": {
      "text/plain": "<Figure size 640x480 with 1 Axes>",
      "image/png": "[encoded data removed]"
     },
     "metadata": {},
     "output_type": "display_data"
    }
   ],
   "source": [
    "try_parameters(model_smoker_GD.coef_, model_smoker_GD.intercept_)"
   ],
   "metadata": {
    "collapsed": false
   }
  },
  {
   "cell_type": "markdown",
   "source": [
    "See in this case, GD doesn't work. (It give different unreasonable values each time)"
   ],
   "metadata": {
    "collapsed": false
   }
  },
  {
   "cell_type": "markdown",
   "source": [
    "### Machine Learning (ML)\n",
    "Above is a ML process:\n",
    "1. Model\n",
    "2. Cost Function\n",
    "3. Optimizer"
   ],
   "metadata": {
    "collapsed": false
   }
  },
  {
   "cell_type": "code",
   "execution_count": null,
   "outputs": [],
   "source": [],
   "metadata": {
    "collapsed": false
   }
  }
 ],
 "metadata": {
  "kernelspec": {
   "display_name": "Python 3",
   "language": "python",
   "name": "python3"
  },
  "language_info": {
   "codemirror_mode": {
    "name": "ipython",
    "version": 2
   },
   "file_extension": ".py",
   "mimetype": "text/x-python",
   "name": "python",
   "nbconvert_exporter": "python",
   "pygments_lexer": "ipython2",
   "version": "2.7.6"
  }
 },
 "nbformat": 4,
 "nbformat_minor": 0
}
